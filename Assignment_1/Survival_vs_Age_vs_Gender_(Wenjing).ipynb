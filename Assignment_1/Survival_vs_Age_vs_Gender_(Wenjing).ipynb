{
  "nbformat": 4,
  "nbformat_minor": 0,
  "metadata": {
    "colab": {
      "provenance": []
    },
    "kernelspec": {
      "name": "python3",
      "display_name": "Python 3"
    },
    "language_info": {
      "name": "python"
    }
  },
  "cells": [
    {
      "cell_type": "code",
      "execution_count": null,
      "metadata": {
        "id": "Ra8JcjCwy_Hz"
      },
      "outputs": [],
      "source": [
        "import pandas as pd\n",
        "import altair as alt"
      ]
    },
    {
      "cell_type": "code",
      "source": [
        "data = pd.read_csv('/content/train.csv')"
      ],
      "metadata": {
        "id": "cknHA4nezFb6"
      },
      "execution_count": null,
      "outputs": []
    },
    {
      "cell_type": "code",
      "source": [
        "data_clean = data.dropna(subset=['Age'])\n",
        "data_clean = data_clean.dropna(subset=['Sex', 'Survived'])"
      ],
      "metadata": {
        "id": "rWOLq9T-zMjB"
      },
      "execution_count": null,
      "outputs": []
    },
    {
      "cell_type": "code",
      "source": [
        "male_count = (data_clean['Sex'] == 'male').sum()\n",
        "female_count = (data_clean['Sex'] == 'female').sum()\n",
        "print(male_count)\n",
        "print(female_count)"
      ],
      "metadata": {
        "colab": {
          "base_uri": "https://localhost:8080/"
        },
        "id": "ghdGwW09GQ9-",
        "outputId": "87d29b19-2b4e-4c35-ef5f-dd5a7f9f2531"
      },
      "execution_count": null,
      "outputs": [
        {
          "output_type": "stream",
          "name": "stdout",
          "text": [
            "453\n",
            "261\n"
          ]
        }
      ]
    },
    {
      "cell_type": "code",
      "source": [
        "bins = [0, 12, 18, 30, 40, 50, 60, 70, 80]\n",
        "labels = ['0-12', '13-18', '19-30', '31-40', '41-50', '51-60', '61-70', '71-80']\n",
        "data_clean['AgeGroup'] = pd.cut(data_clean['Age'], bins=bins, labels=labels, right=False)\n",
        "\n",
        "data_clean['Sex'] = data_clean['Sex'].str.capitalize()"
      ],
      "metadata": {
        "id": "qyG1yM7PMhjh"
      },
      "execution_count": null,
      "outputs": []
    },
    {
      "cell_type": "code",
      "source": [
        "data_clean['Survived'] = data_clean['Survived'].map({0: 'Did not Survive', 1: 'Survived'})\n",
        "\n",
        "# Calculate the count of survivors and non-survivors within each group\n",
        "survival_counts = data_clean.groupby(['AgeGroup', 'Sex', 'Survived']).size().reset_index(name='Count')\n",
        "\n",
        "# Calculate the total count within each age and sex group for normalization\n",
        "total_counts = survival_counts.groupby(['AgeGroup', 'Sex'])['Count'].transform('sum')\n",
        "\n",
        "# Calculate percentage for normalization\n",
        "survival_counts['Percentage'] = (survival_counts['Count'] / total_counts) * 100\n",
        "\n",
        "# Define the color scale for the Survived column\n",
        "color_scale = alt.Scale(domain=['Did not Survive', 'Survived'],\n",
        "                        range=['lightgrey', 'lightskyblue'])\n"
      ],
      "metadata": {
        "id": "tDw60Mg0Jjz1"
      },
      "execution_count": null,
      "outputs": []
    },
    {
      "cell_type": "code",
      "source": [
        "# Create the chart\n",
        "chart = alt.Chart(survival_counts, width=300, height=400).mark_bar().encode(\n",
        "    x=alt.X('AgeGroup:N', title='Age Group'),\n",
        "    y=alt.Y('Percentage:Q', scale=alt.Scale(domain=[0, 100]), title='Percentage Survived/Did not Survive'),\n",
        "    color=alt.Color('Survived:N', scale=color_scale),\n",
        "    column='Sex:N',\n",
        "    tooltip=[alt.Tooltip('AgeGroup:N', title='Age Group'), alt.Tooltip('Percentage:Q', title='Percentage', format='.1f'), 'Sex:N', 'Survived:N']\n",
        ").properties(\n",
        "    title='Impact of Gender and Age on Survival rate'\n",
        ").configure_axis(\n",
        "    labelFontSize=14,\n",
        "    titleFontSize=16\n",
        ").configure_legend(\n",
        "    titleFontSize=16,\n",
        "    labelFontSize=14,\n",
        "    symbolSize=100\n",
        ").configure_title(\n",
        "    fontSize=20\n",
        ").configure_header(\n",
        "    titleFontSize=16,\n",
        "    labelFontSize=14\n",
        ")\n",
        "\n",
        "# Display the chart\n",
        "chart"
      ],
      "metadata": {
        "colab": {
          "base_uri": "https://localhost:8080/",
          "height": 600
        },
        "id": "oLvaTXjsYSCG",
        "outputId": "5ae6c844-e91f-48ed-ed34-a04a03c6cd84"
      },
      "execution_count": null,
      "outputs": [
        {
          "output_type": "execute_result",
          "data": {
            "text/html": [
              "\n",
              "<div id=\"altair-viz-687727287a674019b2c52ae16f013bab\"></div>\n",
              "<script type=\"text/javascript\">\n",
              "  var VEGA_DEBUG = (typeof VEGA_DEBUG == \"undefined\") ? {} : VEGA_DEBUG;\n",
              "  (function(spec, embedOpt){\n",
              "    let outputDiv = document.currentScript.previousElementSibling;\n",
              "    if (outputDiv.id !== \"altair-viz-687727287a674019b2c52ae16f013bab\") {\n",
              "      outputDiv = document.getElementById(\"altair-viz-687727287a674019b2c52ae16f013bab\");\n",
              "    }\n",
              "    const paths = {\n",
              "      \"vega\": \"https://cdn.jsdelivr.net/npm//vega@5?noext\",\n",
              "      \"vega-lib\": \"https://cdn.jsdelivr.net/npm//vega-lib?noext\",\n",
              "      \"vega-lite\": \"https://cdn.jsdelivr.net/npm//vega-lite@4.17.0?noext\",\n",
              "      \"vega-embed\": \"https://cdn.jsdelivr.net/npm//vega-embed@6?noext\",\n",
              "    };\n",
              "\n",
              "    function maybeLoadScript(lib, version) {\n",
              "      var key = `${lib.replace(\"-\", \"\")}_version`;\n",
              "      return (VEGA_DEBUG[key] == version) ?\n",
              "        Promise.resolve(paths[lib]) :\n",
              "        new Promise(function(resolve, reject) {\n",
              "          var s = document.createElement('script');\n",
              "          document.getElementsByTagName(\"head\")[0].appendChild(s);\n",
              "          s.async = true;\n",
              "          s.onload = () => {\n",
              "            VEGA_DEBUG[key] = version;\n",
              "            return resolve(paths[lib]);\n",
              "          };\n",
              "          s.onerror = () => reject(`Error loading script: ${paths[lib]}`);\n",
              "          s.src = paths[lib];\n",
              "        });\n",
              "    }\n",
              "\n",
              "    function showError(err) {\n",
              "      outputDiv.innerHTML = `<div class=\"error\" style=\"color:red;\">${err}</div>`;\n",
              "      throw err;\n",
              "    }\n",
              "\n",
              "    function displayChart(vegaEmbed) {\n",
              "      vegaEmbed(outputDiv, spec, embedOpt)\n",
              "        .catch(err => showError(`Javascript Error: ${err.message}<br>This usually means there's a typo in your chart specification. See the javascript console for the full traceback.`));\n",
              "    }\n",
              "\n",
              "    if(typeof define === \"function\" && define.amd) {\n",
              "      requirejs.config({paths});\n",
              "      require([\"vega-embed\"], displayChart, err => showError(`Error loading script: ${err.message}`));\n",
              "    } else {\n",
              "      maybeLoadScript(\"vega\", \"5\")\n",
              "        .then(() => maybeLoadScript(\"vega-lite\", \"4.17.0\"))\n",
              "        .then(() => maybeLoadScript(\"vega-embed\", \"6\"))\n",
              "        .catch(showError)\n",
              "        .then(() => displayChart(vegaEmbed));\n",
              "    }\n",
              "  })({\"config\": {\"view\": {\"continuousWidth\": 400, \"continuousHeight\": 300}, \"axis\": {\"labelFontSize\": 14, \"titleFontSize\": 16}, \"header\": {\"labelFontSize\": 14, \"titleFontSize\": 16}, \"legend\": {\"labelFontSize\": 14, \"symbolSize\": 100, \"titleFontSize\": 16}, \"title\": {\"fontSize\": 20}}, \"data\": {\"name\": \"data-6c0554af4afaec461d04f7bfa5a5463d\"}, \"mark\": \"bar\", \"encoding\": {\"color\": {\"field\": \"Survived\", \"scale\": {\"domain\": [\"Did not Survive\", \"Survived\"], \"range\": [\"lightgrey\", \"lightskyblue\"]}, \"type\": \"nominal\"}, \"column\": {\"field\": \"Sex\", \"type\": \"nominal\"}, \"tooltip\": [{\"field\": \"AgeGroup\", \"title\": \"Age Group\", \"type\": \"nominal\"}, {\"field\": \"Percentage\", \"format\": \".1f\", \"title\": \"Percentage\", \"type\": \"quantitative\"}, {\"field\": \"Sex\", \"type\": \"nominal\"}, {\"field\": \"Survived\", \"type\": \"nominal\"}], \"x\": {\"field\": \"AgeGroup\", \"title\": \"Age Group\", \"type\": \"nominal\"}, \"y\": {\"field\": \"Percentage\", \"scale\": {\"domain\": [0, 100]}, \"title\": \"Percentage Survived/Did not Survive\", \"type\": \"quantitative\"}}, \"height\": 400, \"title\": \"Impact of Gender and Age on Survival rate\", \"width\": 300, \"$schema\": \"https://vega.github.io/schema/vega-lite/v4.17.0.json\", \"datasets\": {\"data-6c0554af4afaec461d04f7bfa5a5463d\": [{\"AgeGroup\": \"0-12\", \"Sex\": \"Female\", \"Survived\": \"Did not Survive\", \"Count\": 13, \"Percentage\": 40.625}, {\"AgeGroup\": \"0-12\", \"Sex\": \"Female\", \"Survived\": \"Survived\", \"Count\": 19, \"Percentage\": 59.375}, {\"AgeGroup\": \"0-12\", \"Sex\": \"Male\", \"Survived\": \"Did not Survive\", \"Count\": 16, \"Percentage\": 44.44444444444444}, {\"AgeGroup\": \"0-12\", \"Sex\": \"Male\", \"Survived\": \"Survived\", \"Count\": 20, \"Percentage\": 55.55555555555556}, {\"AgeGroup\": \"13-18\", \"Sex\": \"Female\", \"Survived\": \"Did not Survive\", \"Count\": 4, \"Percentage\": 17.391304347826086}, {\"AgeGroup\": \"13-18\", \"Sex\": \"Female\", \"Survived\": \"Survived\", \"Count\": 19, \"Percentage\": 82.6086956521739}, {\"AgeGroup\": \"13-18\", \"Sex\": \"Male\", \"Survived\": \"Did not Survive\", \"Count\": 19, \"Percentage\": 86.36363636363636}, {\"AgeGroup\": \"13-18\", \"Sex\": \"Male\", \"Survived\": \"Survived\", \"Count\": 3, \"Percentage\": 13.636363636363635}, {\"AgeGroup\": \"19-30\", \"Sex\": \"Female\", \"Survived\": \"Did not Survive\", \"Count\": 25, \"Percentage\": 27.173913043478258}, {\"AgeGroup\": \"19-30\", \"Sex\": \"Female\", \"Survived\": \"Survived\", \"Count\": 67, \"Percentage\": 72.82608695652173}, {\"AgeGroup\": \"19-30\", \"Sex\": \"Male\", \"Survived\": \"Did not Survive\", \"Count\": 151, \"Percentage\": 84.35754189944134}, {\"AgeGroup\": \"19-30\", \"Sex\": \"Male\", \"Survived\": \"Survived\", \"Count\": 28, \"Percentage\": 15.64245810055866}, {\"AgeGroup\": \"31-40\", \"Sex\": \"Female\", \"Survived\": \"Did not Survive\", \"Count\": 10, \"Percentage\": 16.666666666666664}, {\"AgeGroup\": \"31-40\", \"Sex\": \"Female\", \"Survived\": \"Survived\", \"Count\": 50, \"Percentage\": 83.33333333333334}, {\"AgeGroup\": \"31-40\", \"Sex\": \"Male\", \"Survived\": \"Did not Survive\", \"Count\": 84, \"Percentage\": 78.50467289719626}, {\"AgeGroup\": \"31-40\", \"Sex\": \"Male\", \"Survived\": \"Survived\", \"Count\": 23, \"Percentage\": 21.49532710280374}, {\"AgeGroup\": \"41-50\", \"Sex\": \"Female\", \"Survived\": \"Did not Survive\", \"Count\": 10, \"Percentage\": 31.25}, {\"AgeGroup\": \"41-50\", \"Sex\": \"Female\", \"Survived\": \"Survived\", \"Count\": 22, \"Percentage\": 68.75}, {\"AgeGroup\": \"41-50\", \"Sex\": \"Male\", \"Survived\": \"Did not Survive\", \"Count\": 45, \"Percentage\": 78.94736842105263}, {\"AgeGroup\": \"41-50\", \"Sex\": \"Male\", \"Survived\": \"Survived\", \"Count\": 12, \"Percentage\": 21.052631578947366}, {\"AgeGroup\": \"51-60\", \"Sex\": \"Female\", \"Survived\": \"Did not Survive\", \"Count\": 2, \"Percentage\": 11.11111111111111}, {\"AgeGroup\": \"51-60\", \"Sex\": \"Female\", \"Survived\": \"Survived\", \"Count\": 16, \"Percentage\": 88.88888888888889}, {\"AgeGroup\": \"51-60\", \"Sex\": \"Male\", \"Survived\": \"Did not Survive\", \"Count\": 26, \"Percentage\": 86.66666666666667}, {\"AgeGroup\": \"51-60\", \"Sex\": \"Male\", \"Survived\": \"Survived\", \"Count\": 4, \"Percentage\": 13.333333333333334}, {\"AgeGroup\": \"61-70\", \"Sex\": \"Female\", \"Survived\": \"Did not Survive\", \"Count\": 0, \"Percentage\": 0.0}, {\"AgeGroup\": \"61-70\", \"Sex\": \"Female\", \"Survived\": \"Survived\", \"Count\": 4, \"Percentage\": 100.0}, {\"AgeGroup\": \"61-70\", \"Sex\": \"Male\", \"Survived\": \"Did not Survive\", \"Count\": 13, \"Percentage\": 86.66666666666667}, {\"AgeGroup\": \"61-70\", \"Sex\": \"Male\", \"Survived\": \"Survived\", \"Count\": 2, \"Percentage\": 13.333333333333334}, {\"AgeGroup\": \"71-80\", \"Sex\": \"Female\", \"Survived\": \"Did not Survive\", \"Count\": 0, \"Percentage\": null}, {\"AgeGroup\": \"71-80\", \"Sex\": \"Female\", \"Survived\": \"Survived\", \"Count\": 0, \"Percentage\": null}, {\"AgeGroup\": \"71-80\", \"Sex\": \"Male\", \"Survived\": \"Did not Survive\", \"Count\": 6, \"Percentage\": 100.0}, {\"AgeGroup\": \"71-80\", \"Sex\": \"Male\", \"Survived\": \"Survived\", \"Count\": 0, \"Percentage\": 0.0}]}}, {\"mode\": \"vega-lite\"});\n",
              "</script>"
            ],
            "text/plain": [
              "alt.Chart(...)"
            ]
          },
          "metadata": {},
          "execution_count": 71
        }
      ]
    }
  ]
}